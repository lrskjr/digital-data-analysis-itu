{
 "cells": [
  {
   "cell_type": "code",
   "execution_count": 11,
   "id": "9a19ed30",
   "metadata": {},
   "outputs": [
    {
     "name": "stdout",
     "output_type": "stream",
     "text": [
      "Noun phrases: ['Det', 'det', 'samfundet', 'der', 'Det', 'det', 'regeringen']\n",
      "Verbs: ['se', 'komme', 'bidrage', 'virke', 'opfatte']\n"
     ]
    }
   ],
   "source": [
    "import spacy\n",
    "\n",
    "# Load Danish tokenizer, tagger, parser, NER and word vectors\n",
    "nlp = spacy.load(\"da_core_news_sm\")\n",
    "\n",
    "\n",
    "text = 'Det er svært at se, at det er alle i samfundet, der kommer til at bidrage. \\\n",
    "        Det virker helt klart, som om det, regeringen opfatter som alle, er alle andre'\n",
    "\n",
    "doc = nlp(text)\n",
    "\n",
    "# Analyze syntax\n",
    "print(\"Noun phrases:\", [chunk.text for chunk in doc.noun_chunks])\n",
    "print(\"Verbs:\", [token.lemma_ for token in doc if token.pos_ == \"VERB\"])\n",
    "\n",
    "# Find named entities, phrases and concepts\n",
    "for entity in doc.ents:\n",
    "    print(entity.text, entity.label_)\n",
    "    \n",
    "    \n"
   ]
  },
  {
   "cell_type": "code",
   "execution_count": 12,
   "id": "617139e7",
   "metadata": {},
   "outputs": [
    {
     "name": "stdout",
     "output_type": "stream",
     "text": [
      "det være svær at se , at det være al i samfund , der komme til at bidrage .          det virke helt klart , som om det , regering opfatte som al , være al anden\n"
     ]
    }
   ],
   "source": [
    "import spacy\n",
    "\n",
    "# Load Danish tokenizer, tagger, parser, NER and word vectors\n",
    "nlp = spacy.load(\"da_core_news_sm\")\n",
    "\n",
    "\n",
    "text = 'Det er svært at se, at det er alle i samfundet, der kommer til at bidrage. \\\n",
    "        Det virker helt klart, som om det, regeringen opfatter som alle, er alle andre'\n",
    "\n",
    "doc = nlp(text)\n",
    "\n",
    "\n",
    "def lemmatize_text(text):\n",
    "    # Process the text with spaCy\n",
    "    doc = nlp(text)\n",
    "\n",
    "    # Extract the lemmatized tokens and join them back into a string\n",
    "    lemmatized_text = \" \".join([token.lemma_ for token in doc])\n",
    "\n",
    "    return lemmatized_text\n",
    "\n",
    "\n",
    "lemmatized_text = lemmatize_text(text)\n",
    "print(lemmatized_text)\n"
   ]
  },
  {
   "cell_type": "code",
   "execution_count": null,
   "id": "7985b44a",
   "metadata": {},
   "outputs": [],
   "source": []
  }
 ],
 "metadata": {
  "kernelspec": {
   "display_name": "Python 3 (ipykernel)",
   "language": "python",
   "name": "python3"
  },
  "language_info": {
   "codemirror_mode": {
    "name": "ipython",
    "version": 3
   },
   "file_extension": ".py",
   "mimetype": "text/x-python",
   "name": "python",
   "nbconvert_exporter": "python",
   "pygments_lexer": "ipython3",
   "version": "3.10.9"
  }
 },
 "nbformat": 4,
 "nbformat_minor": 5
}
