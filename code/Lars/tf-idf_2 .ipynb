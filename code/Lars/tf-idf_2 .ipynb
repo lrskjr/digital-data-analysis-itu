{
 "cells": [
  {
   "cell_type": "code",
   "execution_count": 1,
   "id": "47cff83f",
   "metadata": {},
   "outputs": [
    {
     "name": "stdout",
     "output_type": "stream",
     "text": [
      "Top distinctive words for document 1:\n",
      "['idf', 'tf', 'about', 'analysis', 'important']\n",
      "\n",
      "Top distinctive words for document 2:\n",
      "['frequency', 'inverse', 'stands', 'term', 'document']\n",
      "\n",
      "Top distinctive words for document 3:\n",
      "['another', 'demonstration', 'document', 'idf', 'tf']\n",
      "\n"
     ]
    }
   ],
   "source": [
    "from sklearn.feature_extraction.text import TfidfVectorizer\n",
    "\n",
    "stop_words = ['for', 'is', 'this']\n",
    "\n",
    "def top_distinctive_words(documents):\n",
    "    # Create a TF-IDF vectorizer\n",
    "    tfidf_vectorizer = TfidfVectorizer(max_features=10000, stop_words=stop_words)\n",
    "\n",
    "    # Fit and transform the input documents\n",
    "    tfidf_matrix = tfidf_vectorizer.fit_transform(documents)\n",
    "\n",
    "    # Get the feature names (words)\n",
    "    feature_names = tfidf_vectorizer.get_feature_names_out()\n",
    "\n",
    "    # Initialize a list to store the top distinctive words for each document\n",
    "    top_words_list = []\n",
    "\n",
    "    # Iterate through the TF-IDF matrices for each document\n",
    "    for tfidf_vector in tfidf_matrix.toarray():\n",
    "        # Create a list of tuples (word, TF-IDF score) for the current document\n",
    "        word_tfidf_tuples = [(feature, tfidf_score) for feature, tfidf_score in zip(feature_names, tfidf_vector) if tfidf_score > 0]\n",
    "\n",
    "        # Sort the tuples by TF-IDF score in descending order\n",
    "        word_tfidf_tuples.sort(key=lambda x: x[1], reverse=True)\n",
    "\n",
    "        # Select the top five words with the highest TF-IDF scores\n",
    "        top_words = [word for word, _ in word_tfidf_tuples[:5]]\n",
    "\n",
    "        top_words_list.append(top_words)\n",
    "\n",
    "    return top_words_list\n",
    "\n",
    "# Example usage:\n",
    "documents = [\n",
    "    \"This is a sample document about TF-IDF. TF-IDF is important in text analysis.\",\n",
    "    \"TF-IDF stands for Term Frequency-Inverse Document Frequency.\",\n",
    "    \"Another document for TF-IDF demonstration.\",\n",
    "]\n",
    "\n",
    "top_words_list = top_distinctive_words(documents)\n",
    "\n",
    "# Print the top distinctive words for each document\n",
    "for i, top_words in enumerate(top_words_list):\n",
    "    print(f\"Top distinctive words for document {i + 1}:\")\n",
    "    print(top_words)\n",
    "    print()\n"
   ]
  },
  {
   "cell_type": "code",
   "execution_count": 6,
   "id": "c4caf4a6",
   "metadata": {},
   "outputs": [
    {
     "data": {
      "text/plain": [
       "category\n",
       "A           [[category, text], [more, category, text]]\n",
       "B    [[idf, tf, with, category, text], [additional,...\n",
       "dtype: object"
      ]
     },
     "execution_count": 6,
     "metadata": {},
     "output_type": "execute_result"
    }
   ],
   "source": [
    "import pandas as pd\n",
    "\n",
    "# Sample DataFrame\n",
    "data = {\n",
    "    'category': ['A', 'B', 'A', 'B'],\n",
    "    'text': [\n",
    "        \"This is category A text.\",\n",
    "        \"Category B text with TF-IDF.\",\n",
    "        \"More category A text.\",\n",
    "        \"Additional category B text.\"\n",
    "    ]\n",
    "}\n",
    "\n",
    "df = pd.DataFrame(data)\n",
    "\n",
    "# Define the top_distinctive_words function (from the previous response)\n",
    "\n",
    "# Create a function to apply top_distinctive_words to each group\n",
    "def apply_top_distinctive_words(group):\n",
    "    return top_distinctive_words(group['text'].tolist())\n",
    "\n",
    "# Group the DataFrame by 'category' and apply the function\n",
    "result = df.groupby('category').apply(apply_top_distinctive_words)\n",
    "\n",
    "# Display the result\n",
    "result"
   ]
  },
  {
   "cell_type": "code",
   "execution_count": null,
   "id": "00f14108",
   "metadata": {},
   "outputs": [],
   "source": []
  }
 ],
 "metadata": {
  "kernelspec": {
   "display_name": "Python 3 (ipykernel)",
   "language": "python",
   "name": "python3"
  },
  "language_info": {
   "codemirror_mode": {
    "name": "ipython",
    "version": 3
   },
   "file_extension": ".py",
   "mimetype": "text/x-python",
   "name": "python",
   "nbconvert_exporter": "python",
   "pygments_lexer": "ipython3",
   "version": "3.10.9"
  }
 },
 "nbformat": 4,
 "nbformat_minor": 5
}
