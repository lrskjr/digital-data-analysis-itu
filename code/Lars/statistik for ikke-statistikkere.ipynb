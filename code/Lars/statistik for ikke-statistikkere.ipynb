{
 "cells": [
  {
   "cell_type": "markdown",
   "id": "79222a93",
   "metadata": {},
   "source": [
    "# Beskrivelse af data\n",
    "De vigtigste statistiske begreber, som knytter sig til beskrivelse af data er:\n",
    "- systematisk variation - niveaumål\n",
    "- tilfældig variation - spredningsmål\n",
    "- gennemsnit\n",
    "- spredning\n",
    "- andre begreber ?\n",
    "- histogram\n",
    "\n",
    "## Systematisk variation\n",
    "Systematisk variation handler om niveauet i data. Det vil sige centrum eller midtpunktet. \n",
    "Nøgletallet er niveaumål. Niveaumål angiver noget om værdiernes niveau.\n",
    "Niveaumål er:\n",
    "1. Gennemsnit: Gennemsnit er tyngdepunktet i værdiernes fordeling. Gennemsnit er summen af værdier divideret med antallet af værdier. Ordet middelværdi bliver ofte brugt i stedet for gennemsnit. Gennemsnit er påvirket af meget små og meget store værdier. Hvis der er mange store værdier bliver gennemsnittet forholdsvist stort. I sådanne tilfælde kan man med fordel benytte medianen i stedet for gennemsnit. \n",
    "\n",
    "\n",
    "\n",
    "## Tilfældig variation\n",
    "Tilfældig variation handler om spredning i data. Det vil sige bredden i data.\n",
    "Nøgletallet er spredningsmål. Spredningsmål angiver værdiernes spredning omkring niveauet.   "
   ]
  },
  {
   "cell_type": "code",
   "execution_count": 25,
   "id": "d709a456",
   "metadata": {},
   "outputs": [
    {
     "name": "stdout",
     "output_type": "stream",
     "text": [
      "1\n"
     ]
    }
   ],
   "source": [
    "car = {\n",
    "  \"brand\": \"Ford\",\n",
    "  \"model\": \"Mustang\",\n",
    "  \"year\": 1964}\n",
    "\n",
    "x = car.get(\"price\", 0) + 1\n",
    "\n",
    "print (x)"
   ]
  },
  {
   "cell_type": "code",
   "execution_count": 26,
   "id": "565af8c2",
   "metadata": {},
   "outputs": [
    {
     "data": {
      "text/plain": [
       "{'brand': 'Ford', 'model': 'Mustang', 'year': 1964}"
      ]
     },
     "execution_count": 26,
     "metadata": {},
     "output_type": "execute_result"
    }
   ],
   "source": [
    "word_dict = {}  # Dictionary to store word counts\n",
    "    \n",
    "for word in word_list:\n",
    "    word_dict[word] = word_dict.get(word, 0) + 1\n",
    "    \n",
    "word_dict "
   ]
  },
  {
   "cell_type": "code",
   "execution_count": 32,
   "id": "30bde0b8",
   "metadata": {},
   "outputs": [
    {
     "data": {
      "text/plain": [
       "{'Ford': 1}"
      ]
     },
     "execution_count": 32,
     "metadata": {},
     "output_type": "execute_result"
    }
   ],
   "source": [
    "#word_list = ['Ford', 'Mustang', 'year', '1964', 'year']\n",
    "word_list = ['Ford']\n",
    "\n",
    "word_dict = {}  # Dictionary to store word counts\n",
    "    \n",
    "for word in word_list:\n",
    "    word_dict[word] = word_dict.get(word, 0) + 1\n",
    "    \n",
    "word_dict "
   ]
  },
  {
   "cell_type": "code",
   "execution_count": 68,
   "id": "161e371a",
   "metadata": {},
   "outputs": [],
   "source": [
    "car = {}"
   ]
  },
  {
   "cell_type": "code",
   "execution_count": 81,
   "id": "7ef6f422",
   "metadata": {},
   "outputs": [
    {
     "name": "stdout",
     "output_type": "stream",
     "text": [
      "5\n"
     ]
    }
   ],
   "source": [
    "x = car.get(\"price\", 0) + 1\n",
    "\n",
    "print (x)"
   ]
  },
  {
   "cell_type": "code",
   "execution_count": 82,
   "id": "c0e28503",
   "metadata": {},
   "outputs": [],
   "source": [
    "car[\"price\"] = x"
   ]
  },
  {
   "cell_type": "code",
   "execution_count": 83,
   "id": "6525de4b",
   "metadata": {},
   "outputs": [
    {
     "data": {
      "text/plain": [
       "{'price': 5}"
      ]
     },
     "execution_count": 83,
     "metadata": {},
     "output_type": "execute_result"
    }
   ],
   "source": [
    "car"
   ]
  },
  {
   "cell_type": "code",
   "execution_count": null,
   "id": "aeb97db1",
   "metadata": {},
   "outputs": [],
   "source": []
  }
 ],
 "metadata": {
  "kernelspec": {
   "display_name": "Python 3 (ipykernel)",
   "language": "python",
   "name": "python3"
  },
  "language_info": {
   "codemirror_mode": {
    "name": "ipython",
    "version": 3
   },
   "file_extension": ".py",
   "mimetype": "text/x-python",
   "name": "python",
   "nbconvert_exporter": "python",
   "pygments_lexer": "ipython3",
   "version": "3.10.9"
  }
 },
 "nbformat": 4,
 "nbformat_minor": 5
}
