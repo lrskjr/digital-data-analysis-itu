{
 "cells": [
  {
   "cell_type": "markdown",
   "id": "cf90e1b9",
   "metadata": {},
   "source": [
    "# Beskrivelse af data\n",
    "De vigtigste statistiske begreber, som knytter sig til beskrivelse af data er:\n",
    "- systematisk variation\n",
    "- tilfældig variation\n",
    "- gennemsnit\n",
    "- spredning\n",
    "- andre begreber ?\n",
    "- histogram\n",
    "\n",
    "## Systematisk variation\n",
    "Systematisk variation handler om niveauet i data. Det vil sige centrum eller midtpunktet.\n",
    "\n",
    "## Tilfældig variation\n",
    "Tilfældig variation handler om spredning i data. Det vil sige bredden."
   ]
  }
 ],
 "metadata": {
  "kernelspec": {
   "display_name": "Python 3 (ipykernel)",
   "language": "python",
   "name": "python3"
  },
  "language_info": {
   "codemirror_mode": {
    "name": "ipython",
    "version": 3
   },
   "file_extension": ".py",
   "mimetype": "text/x-python",
   "name": "python",
   "nbconvert_exporter": "python",
   "pygments_lexer": "ipython3",
   "version": "3.10.9"
  }
 },
 "nbformat": 4,
 "nbformat_minor": 5
}
