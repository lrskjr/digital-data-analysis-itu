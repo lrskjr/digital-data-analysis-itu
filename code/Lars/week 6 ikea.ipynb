{
 "cells": [
  {
   "cell_type": "code",
   "execution_count": 1,
   "id": "3a77f593",
   "metadata": {},
   "outputs": [],
   "source": [
    "import os"
   ]
  },
  {
   "cell_type": "code",
   "execution_count": 2,
   "id": "3e5759c1",
   "metadata": {},
   "outputs": [],
   "source": [
    "os.chdir(r'C:\\Users\\lakj\\Documents\\GitHub\\digital data analysis itu\\datasets')"
   ]
  },
  {
   "cell_type": "code",
   "execution_count": 6,
   "id": "a67b5848",
   "metadata": {},
   "outputs": [],
   "source": [
    "#Importing the most basic libraries to load and manipulate the dataset\n",
    "import numpy as np\n",
    "import pandas as pd\n",
    "\n",
    "#Remember to set the correct directory based on the folder in which you saved your file\n",
    "import os\n",
    "\n",
    "\n",
    "df = pd.read_csv(\"play_store_comments.csv\")"
   ]
  },
  {
   "cell_type": "code",
   "execution_count": 7,
   "id": "5cdffbea",
   "metadata": {},
   "outputs": [
    {
     "data": {
      "text/html": [
       "<div>\n",
       "<style scoped>\n",
       "    .dataframe tbody tr th:only-of-type {\n",
       "        vertical-align: middle;\n",
       "    }\n",
       "\n",
       "    .dataframe tbody tr th {\n",
       "        vertical-align: top;\n",
       "    }\n",
       "\n",
       "    .dataframe thead th {\n",
       "        text-align: right;\n",
       "    }\n",
       "</style>\n",
       "<table border=\"1\" class=\"dataframe\">\n",
       "  <thead>\n",
       "    <tr style=\"text-align: right;\">\n",
       "      <th></th>\n",
       "      <th>User Name</th>\n",
       "      <th>Date</th>\n",
       "      <th>Comment</th>\n",
       "    </tr>\n",
       "  </thead>\n",
       "  <tbody>\n",
       "    <tr>\n",
       "      <th>0</th>\n",
       "      <td>shelby67</td>\n",
       "      <td>2023-05-28</td>\n",
       "      <td>The premium version is worth every penny!</td>\n",
       "    </tr>\n",
       "    <tr>\n",
       "      <th>1</th>\n",
       "      <td>aaron71</td>\n",
       "      <td>2023-05-06</td>\n",
       "      <td>The daily tips are informative and practical.</td>\n",
       "    </tr>\n",
       "    <tr>\n",
       "      <th>2</th>\n",
       "      <td>rebeccadixon</td>\n",
       "      <td>2022-11-15</td>\n",
       "      <td>I've been using HealthTrack for years and stil...</td>\n",
       "    </tr>\n",
       "    <tr>\n",
       "      <th>3</th>\n",
       "      <td>richard22</td>\n",
       "      <td>2023-05-01</td>\n",
       "      <td>The app keeps me accountable for my health.</td>\n",
       "    </tr>\n",
       "    <tr>\n",
       "      <th>4</th>\n",
       "      <td>davidwhite</td>\n",
       "      <td>2022-12-21</td>\n",
       "      <td>Great app! Helps me stay on top of my fitness ...</td>\n",
       "    </tr>\n",
       "    <tr>\n",
       "      <th>...</th>\n",
       "      <td>...</td>\n",
       "      <td>...</td>\n",
       "      <td>...</td>\n",
       "    </tr>\n",
       "    <tr>\n",
       "      <th>95</th>\n",
       "      <td>daniel77</td>\n",
       "      <td>2023-06-10</td>\n",
       "      <td>The daily tips are informative and practical.</td>\n",
       "    </tr>\n",
       "    <tr>\n",
       "      <th>96</th>\n",
       "      <td>johnlewis</td>\n",
       "      <td>2023-06-22</td>\n",
       "      <td>I like how it customizes workouts based on my ...</td>\n",
       "    </tr>\n",
       "    <tr>\n",
       "      <th>97</th>\n",
       "      <td>caroline82</td>\n",
       "      <td>2023-04-15</td>\n",
       "      <td>This app is a must-have for anyone serious abo...</td>\n",
       "    </tr>\n",
       "    <tr>\n",
       "      <th>98</th>\n",
       "      <td>agarcia</td>\n",
       "      <td>2023-07-25</td>\n",
       "      <td>I'm more mindful of what I eat thanks to this ...</td>\n",
       "    </tr>\n",
       "    <tr>\n",
       "      <th>99</th>\n",
       "      <td>hannahwalker</td>\n",
       "      <td>2023-04-18</td>\n",
       "      <td>I like how it tracks my heart rate during work...</td>\n",
       "    </tr>\n",
       "  </tbody>\n",
       "</table>\n",
       "<p>100 rows × 3 columns</p>\n",
       "</div>"
      ],
      "text/plain": [
       "       User Name        Date  \\\n",
       "0       shelby67  2023-05-28   \n",
       "1        aaron71  2023-05-06   \n",
       "2   rebeccadixon  2022-11-15   \n",
       "3      richard22  2023-05-01   \n",
       "4     davidwhite  2022-12-21   \n",
       "..           ...         ...   \n",
       "95      daniel77  2023-06-10   \n",
       "96     johnlewis  2023-06-22   \n",
       "97    caroline82  2023-04-15   \n",
       "98       agarcia  2023-07-25   \n",
       "99  hannahwalker  2023-04-18   \n",
       "\n",
       "                                              Comment  \n",
       "0           The premium version is worth every penny!  \n",
       "1       The daily tips are informative and practical.  \n",
       "2   I've been using HealthTrack for years and stil...  \n",
       "3         The app keeps me accountable for my health.  \n",
       "4   Great app! Helps me stay on top of my fitness ...  \n",
       "..                                                ...  \n",
       "95      The daily tips are informative and practical.  \n",
       "96  I like how it customizes workouts based on my ...  \n",
       "97  This app is a must-have for anyone serious abo...  \n",
       "98  I'm more mindful of what I eat thanks to this ...  \n",
       "99  I like how it tracks my heart rate during work...  \n",
       "\n",
       "[100 rows x 3 columns]"
      ]
     },
     "execution_count": 7,
     "metadata": {},
     "output_type": "execute_result"
    }
   ],
   "source": [
    "df"
   ]
  },
  {
   "cell_type": "code",
   "execution_count": null,
   "id": "ef6035a8",
   "metadata": {},
   "outputs": [],
   "source": [
    "import string\n",
    "def remove_punctuation(text):\n",
    "    translator = str.maketransfor"
   ]
  }
 ],
 "metadata": {
  "kernelspec": {
   "display_name": "Python 3 (ipykernel)",
   "language": "python",
   "name": "python3"
  },
  "language_info": {
   "codemirror_mode": {
    "name": "ipython",
    "version": 3
   },
   "file_extension": ".py",
   "mimetype": "text/x-python",
   "name": "python",
   "nbconvert_exporter": "python",
   "pygments_lexer": "ipython3",
   "version": "3.10.9"
  }
 },
 "nbformat": 4,
 "nbformat_minor": 5
}
