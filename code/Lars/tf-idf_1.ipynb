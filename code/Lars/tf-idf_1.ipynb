{
 "cells": [
  {
   "cell_type": "code",
   "execution_count": 1,
   "id": "b86f957a",
   "metadata": {},
   "outputs": [
    {
     "name": "stdout",
     "output_type": "stream",
     "text": [
      "TF-IDF scores for text 1:\n",
      "{'analysis': 0.0, 'another': 0.0, 'calculation': 0.4383907244416506, 'demonstration': 0.0, 'for': 0.333407445657484, 'idf': 0.2589206239570202, 'important': 0.0, 'in': 0.0, 'is': 0.333407445657484, 'sample': 0.4383907244416506, 'text': 0.2589206239570202, 'tf': 0.2589206239570202, 'this': 0.4383907244416506}\n",
      "\n",
      "TF-IDF scores for text 2:\n",
      "{'analysis': 0.46499650594866215, 'another': 0.0, 'calculation': 0.0, 'demonstration': 0.0, 'for': 0.0, 'idf': 0.2746344271115768, 'important': 0.46499650594866215, 'in': 0.46499650594866215, 'is': 0.3536418282696428, 'sample': 0.0, 'text': 0.2746344271115768, 'tf': 0.2746344271115768, 'this': 0.0}\n",
      "\n",
      "TF-IDF scores for text 3:\n",
      "{'analysis': 0.0, 'another': 0.5252343076585736, 'calculation': 0.0, 'demonstration': 0.5252343076585736, 'for': 0.39945422912667033, 'idf': 0.31021184318121237, 'important': 0.0, 'in': 0.0, 'is': 0.0, 'sample': 0.0, 'text': 0.31021184318121237, 'tf': 0.31021184318121237, 'this': 0.0}\n",
      "\n"
     ]
    }
   ],
   "source": [
    "from sklearn.feature_extraction.text import TfidfVectorizer\n",
    "\n",
    "def calculate_tfidf(texts):\n",
    "    # Create a TF-IDF vectorizer\n",
    "    tfidf_vectorizer = TfidfVectorizer()\n",
    "\n",
    "    # Fit and transform the input texts\n",
    "    tfidf_matrix = tfidf_vectorizer.fit_transform(texts)\n",
    "\n",
    "    # Get the feature names (words)\n",
    "    feature_names = tfidf_vectorizer.get_feature_names_out()\n",
    "\n",
    "    # Initialize a list to store TF-IDF scores for each text\n",
    "    tfidf_scores_list = []\n",
    "\n",
    "    # Iterate through the TF-IDF matrices for each text\n",
    "    for tfidf_vector in tfidf_matrix.toarray():\n",
    "        # Create a dictionary of word to TF-IDF score for the current text\n",
    "        tfidf_scores = {feature: score for feature, score in zip(feature_names, tfidf_vector)}\n",
    "        tfidf_scores_list.append(tfidf_scores)\n",
    "\n",
    "    return tfidf_scores_list\n",
    "\n",
    "# Example usage:\n",
    "text_list = [\n",
    "    \"This is a sample text for TF-IDF calculation.\",\n",
    "    \"TF-IDF is important in text analysis.\",\n",
    "    \"Another text for TF-IDF demonstration.\"\n",
    "]\n",
    "\n",
    "tfidf_scores_list = calculate_tfidf(text_list)\n",
    "\n",
    "# Print TF-IDF scores for each text\n",
    "for i, tfidf_scores in enumerate(tfidf_scores_list):\n",
    "    print(f\"TF-IDF scores for text {i + 1}:\")\n",
    "    print(tfidf_scores)\n",
    "    print()\n"
   ]
  },
  {
   "cell_type": "code",
   "execution_count": null,
   "id": "562fc0db",
   "metadata": {},
   "outputs": [],
   "source": []
  }
 ],
 "metadata": {
  "kernelspec": {
   "display_name": "Python 3 (ipykernel)",
   "language": "python",
   "name": "python3"
  },
  "language_info": {
   "codemirror_mode": {
    "name": "ipython",
    "version": 3
   },
   "file_extension": ".py",
   "mimetype": "text/x-python",
   "name": "python",
   "nbconvert_exporter": "python",
   "pygments_lexer": "ipython3",
   "version": "3.10.9"
  }
 },
 "nbformat": 4,
 "nbformat_minor": 5
}
