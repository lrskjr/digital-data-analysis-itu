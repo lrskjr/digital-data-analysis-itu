{
 "cells": [
  {
   "cell_type": "markdown",
   "id": "a7af3279",
   "metadata": {},
   "source": [
    "# Beskrivelse af data\n",
    "De vigtigste statistiske begreber, som knytter sig til beskrivelse af data er:\n",
    "- systematisk variation - niveaumål\n",
    "- tilfældig variation - spredningsmål\n",
    "- gennemsnit\n",
    "- spredning\n",
    "- andre begreber ?\n",
    "- histogram\n",
    "\n",
    "## Systematisk variation\n",
    "Systematisk variation handler om niveauet i data. Det vil sige centrum eller midtpunktet. \n",
    "Nøgletallet er niveaumål. Niveaumål angiver noget om værdiernes niveau.\n",
    "Niveaumål er:\n",
    "1. Gennemsnit: Gennemsnit er tyngdepunktet i værdiernes fordeling. Gennemsnit er summen af værdier divideret med antallet af værdier. Ordet middelværdi bliver ofte brugt i stedet for gennemsnit. Gennemsnit er påvirket af meget små og meget store værdier. Hvis der er mange store værdier bliver gennemsnittet forholdsvist stort. I sådanne tilfælde kan man med fordel benytte medianen i stedet for gennemsnit. \n",
    "\n",
    "\n",
    "\n",
    "## Tilfældig variation\n",
    "Tilfældig variation handler om spredning i data. Det vil sige bredden i data.\n",
    "Nøgletallet er spredningsmål. Spredningsmål angiver værdiernes spredning omkring niveauet.   "
   ]
  },
  {
   "cell_type": "code",
   "execution_count": null,
   "id": "1bd98b46",
   "metadata": {},
   "outputs": [],
   "source": []
  }
 ],
 "metadata": {
  "kernelspec": {
   "display_name": "Python 3 (ipykernel)",
   "language": "python",
   "name": "python3"
  },
  "language_info": {
   "codemirror_mode": {
    "name": "ipython",
    "version": 3
   },
   "file_extension": ".py",
   "mimetype": "text/x-python",
   "name": "python",
   "nbconvert_exporter": "python",
   "pygments_lexer": "ipython3",
   "version": "3.10.9"
  }
 },
 "nbformat": 4,
 "nbformat_minor": 5
}
