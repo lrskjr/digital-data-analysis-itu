{
 "cells": [
  {
   "cell_type": "markdown",
   "id": "14c6fed5",
   "metadata": {},
   "source": [
    "# Beskrivelse af data\n",
    "Vigtige statistiske begreber, som knytter sig til beskrivelse af data er:\n",
    "- systematisk variation - niveaumål\n",
    "- tilfældig variation - spredningsmål\n",
    "- histogram\n",
    "\n",
    "## Systematisk variation\n",
    "Systematisk variation handler om niveauet i data. Det vil sige værdiernes centrum eller midtpunkt. \n",
    "Nøgletallet er niveaumål. Niveaumål angiver noget om værdiernes niveau.\n",
    "Niveaumål er:\n",
    "1. Gennemsnit: Gennemsnittet er tyngdepunktet i værdiernes fordeling. Gennemsnit er summen af værdier divideret med antallet af værdier. Ordet middelværdi bliver ofte brugt i stedet for gennemsnit. Gennemsnit er påvirket af meget små og meget store værdier. Hvis der er mange store værdier bliver gennemsnittet forholdsvist stort. I sådanne tilfælde kan man med fordel benytte medianen i stedet for gennemsnit.\n",
    "2. Medianen: Medianen er midten af værdierne. Hvis der er et ulige antal værdier, så er medianen den midterste værdi. Det vil sige det tal, der deler værdierne i lige mange værdier på hver sin side. Hvis der er et lige antal værdier, så er medianen gennemsnittet af de to midterste værdier. Medianen er ikke på samme måde som gennemsnittet følsom over for meget store eller små værdier, og ofte vil man lade de to tal supplere hinanden.\n",
    "3. Modus: Modus også kaldet typetallet er den hyppigste værdi. Man finder modus ved en optælling af antallet af forekomster af værdier, men bliver ofte ikke anvendt i praksis. \n",
    "\n",
    "\n",
    "\n",
    "## Tilfældig variation\n",
    "Tilfældig variation handler om spredning i data. Det vil sige bredden i fordelingen af værdierne.\n",
    "Nøgletallet er spredningsmål. Spredningsmål angiver værdiernes spredning omkring niveauet.\n",
    "Spredningsmål er:\n",
    "1. Variationsbredde: Variationsbredden er bredden af det inteval, som værdierne dækker, og bliver beregnet som forskellen mellem den største værdi og den mindste værdi. Variationsbredden bliver påvirket, hvis der er mange værdier, fordi så vil der komme flere små og større værdier. Variationsbredden bliver derfor brugt ved meget små stikprøver. R (range) bliver brugt for variationsbredden. \n",
    "2. Varians: Variansen er gennemsnittet af værdiernes kvarderede afstande til gennemsnittet. Ofte bliver V brugt for variansen.\n",
    "3. Standardafvigelse: Standardafvigelsen er værdiernes gennemsnitsafstand til gennemsnittet. Det vil sige, at jo større standardafvigelsen er, jo større er spredningen i værdierne. Standardafvigelsen bliver ofte kaldt for spredningen. Den bliver beregnet ved at tage kvadratroden af variansen. Ofte bliver s brugt for standardafvigelsen.\n",
    "4. Kvartilafvigelse: Kvartilafvigelserne får man, når man har fundet medianen, og deler de to halvdele af værdierne i to lige store dele, så man får opdelt alle data i fire dele. side 52.  "
   ]
  },
  {
   "cell_type": "code",
   "execution_count": null,
   "id": "cdef81b8",
   "metadata": {},
   "outputs": [],
   "source": []
  }
 ],
 "metadata": {
  "kernelspec": {
   "display_name": "Python 3 (ipykernel)",
   "language": "python",
   "name": "python3"
  },
  "language_info": {
   "codemirror_mode": {
    "name": "ipython",
    "version": 3
   },
   "file_extension": ".py",
   "mimetype": "text/x-python",
   "name": "python",
   "nbconvert_exporter": "python",
   "pygments_lexer": "ipython3",
   "version": "3.10.9"
  }
 },
 "nbformat": 4,
 "nbformat_minor": 5
}
